{
 "cells": [
  {
   "cell_type": "code",
   "execution_count": 1,
   "id": "5729668e",
   "metadata": {},
   "outputs": [],
   "source": [
    "import requests\n",
    "from bs4 import BeautifulSoup\n",
    "import pandas as pd"
   ]
  },
  {
   "cell_type": "code",
   "execution_count": 2,
   "id": "5dbbca07",
   "metadata": {},
   "outputs": [
    {
     "name": "stdout",
     "output_type": "stream",
     "text": [
      "1\t2\t3\t4\t5\t6\t7\t8\t9\t10\t11\t12\t13\t14\t15\t16\t17\t18\t19\t20\t21\t22\t23\t24\t25\t26\t27\t28\t29\t30\t31\t32\t33\t34\t35\t36\t37\t38\t39\t40\t41\t42\t43\t44\t45\t46\t47\t48\t49\t50\t51\t52\t53\t54\t55\t56\t57\t58\t59\t60\t61\t62\t63\t64\t65\t66\t67\t68\t69\t70\t71\t72\t73\t74\t75\t76\t77\t78\t79\t80\t81\t82\t83\t84\t85\t86\t87\t88\t89\t90\t91\t92\t93\t94\t95\t96\t97\t98\t99\t100\t101\t102\t103\t104\t105\t106\t107\t108\t109\t110\t111\t112\t113\t114\t115\t116\t117\t118\t119\t120\t121\t122\t123\t124\t125\t126\t127\t128\t129\t130\t131\t132\t"
     ]
    }
   ],
   "source": [
    "soups_sale = []\n",
    "for x in range(1, 133):\n",
    "    url = f'https://www.zoopla.co.uk/for-sale/property/birmingham/?pn={x}'\n",
    "    page = requests.get(url)\n",
    "    soup = BeautifulSoup(page.text, 'lxml')\n",
    "    soups_sale.append(soup)\n",
    "    print(x, end='\\t')"
   ]
  },
  {
   "cell_type": "code",
   "execution_count": 3,
   "id": "9272a44a",
   "metadata": {},
   "outputs": [
    {
     "name": "stdout",
     "output_type": "stream",
     "text": [
      "1\t2\t3\t4\t5\t6\t7\t8\t9\t10\t11\t12\t13\t14\t15\t16\t17\t18\t19\t20\t21\t22\t23\t24\t25\t26\t27\t28\t29\t30\t31\t32\t33\t34\t35\t36\t37\t38\t39\t40\t41\t42\t43\t44\t45\t46\t47\t48\t49\t50\t51\t52\t53\t54\t55\t56\t57\t58\t59\t60\t61\t62\t63\t64\t65\t66\t67\t68\t69\t70\t71\t72\t73\t74\t75\t76\t77\t78\t79\t80\t81\t82\t83\t84\t85\t86\t87\t88\t89\t90\t91\t92\t93\t94\t95\t96\t97\t98\t99\t100\t101\t102\t103\t104\t105\t"
     ]
    }
   ],
   "source": [
    "soups_rent = []\n",
    "for x in range(1, 106):\n",
    "    url = f'https://www.zoopla.co.uk/to-rent/property/birmingham/?price_frequency=per_month&q=birmingham&results_sort=newest_listings&search_source=to-rent&pn={x}'\n",
    "    page = requests.get(url)\n",
    "    soup = BeautifulSoup(page.text, 'lxml')\n",
    "    soups_rent.append(soup)\n",
    "    print(x, end='\\t')"
   ]
  },
  {
   "cell_type": "code",
   "execution_count": 4,
   "id": "1b1b3d21",
   "metadata": {},
   "outputs": [],
   "source": [
    "copy_soups_sale = soups_sale.copy()\n",
    "copy_soups_rent = soups_rent.copy()"
   ]
  },
  {
   "cell_type": "code",
   "execution_count": 5,
   "id": "bf5e8b08",
   "metadata": {},
   "outputs": [],
   "source": [
    "sale_price = []\n",
    "sale_title = []\n",
    "sale_location = []\n",
    "sale_post_data = []\n",
    "sale_bed = []\n",
    "sale_bath = []\n",
    "sale_chair = []\n",
    "sale_link = []\n",
    "################\n",
    "for soup in soups_sale:\n",
    "    con2 = soup.find('div', class_='css-1anhqz4-ListingsContainer earci3d2')\n",
    "    all2 = con2.find_all('div', {'data-testid':'search-result'})\n",
    "    for one in all2:\n",
    "        sale_link.append('https://www.zoopla.co.uk/'+one.find('a',{'data-testid':'listing-details-link'})['href'])\n",
    "        sale_price.append(one.find('p', class_='css-1o565rw-Text eczcs4p0').text.strip())\n",
    "        try:\n",
    "            sale_title.append(one.find('h2', {'data-testid':'listing-title'}).text.strip())\n",
    "        except:\n",
    "            sale_title.append(\"N/A title\")\n",
    "        try:\n",
    "            sale_location.append(one.find('p', class_='css-nwapgq-Text eczcs4p0').text.strip())\n",
    "        except:\n",
    "            sale_location.append(\"N/A location\")\n",
    "        try:\n",
    "            sale_post_data.append(one.find('span', {'data-testid':'date-published'}).text.strip())\n",
    "        except:\n",
    "            sale_post_data.append(\"N/A post date\")\n",
    "        listing_spec = one.find('div', {'data-testid':'listing-spec'})\n",
    "        divs = listing_spec.find_all('div')\n",
    "        sale_bed.append('N/A')\n",
    "        sale_bath.append('N/A')\n",
    "        sale_chair.append('N/A')\n",
    "        for div in divs:\n",
    "            try:\n",
    "                if div.find('span', {'data-testid':'bed'}):\n",
    "                    sale_bed[len(sale_bed)-1] = div['content']\n",
    "            except:\n",
    "                pass\n",
    "            try:\n",
    "                if div.find('span', {'data-testid':'bath'}):\n",
    "                    sale_bath[len(sale_bath)-1] = div['content']\n",
    "            except:\n",
    "                pass\n",
    "            try:\n",
    "                if div.find('span', {'data-testid':'chair'}):\n",
    "                    sale_chair[len(sale_chair)-1] = div['content']\n",
    "            except:\n",
    "                pass"
   ]
  },
  {
   "cell_type": "code",
   "execution_count": 6,
   "id": "b0867052",
   "metadata": {},
   "outputs": [],
   "source": [
    "df_sale=pd.DataFrame({\n",
    "    'link':sale_link,\n",
    "    'price':sale_price,\n",
    "    'title':sale_title,\n",
    "    'location':sale_location,\n",
    "    'post-date':sale_post_data,\n",
    "    'bedrooms':sale_bed,\n",
    "    'bathrooms':sale_bath,\n",
    "    'receptions':sale_chair\n",
    "    \n",
    "})\n",
    "df_sale.to_csv('1-sale-raw.csv', index=False)"
   ]
  },
  {
   "cell_type": "code",
   "execution_count": 7,
   "id": "89dfd51c",
   "metadata": {
    "scrolled": true
   },
   "outputs": [],
   "source": [
    "rent_price = []\n",
    "rent_title = []\n",
    "rent_location = []\n",
    "rent_post_data = []\n",
    "rent_bed = []\n",
    "rent_bath = []\n",
    "rent_chair = []\n",
    "rent_link = []\n",
    "for soup in soups_rent:\n",
    "    con2 = soup.find('div', class_='css-1anhqz4-ListingsContainer earci3d2')\n",
    "    all2 = con2.find_all('div', {'data-testid':'search-result'})\n",
    "    for one in all2:\n",
    "        rent_link.append('https://www.zoopla.co.uk/'+one.find('a',{'data-testid':'listing-details-link'})['href'])\n",
    "        rent_price.append(one.find('p', class_='css-1o565rw-Text eczcs4p0').text.strip())\n",
    "        try:\n",
    "            rent_title.append(one.find('h2', {'data-testid':'listing-title'}).text.strip())\n",
    "        except:\n",
    "            rent_title.append(\"N/A title\")\n",
    "        try:\n",
    "            rent_location.append(one.find('p', class_='css-nwapgq-Text eczcs4p0').text.strip())\n",
    "        except:\n",
    "            rent_location.append(\"N/A location\")\n",
    "        try:\n",
    "            rent_post_data.append(one.find('span', {'data-testid':'date-published'}).text.strip())\n",
    "        except:\n",
    "            rent_post_data.append(\"N/A post date\")\n",
    "        listing_spec = one.find('div', {'data-testid':'listing-spec'})\n",
    "        divs = listing_spec.find_all('div')\n",
    "        rent_bed.append('N/A')\n",
    "        rent_bath.append('N/A')\n",
    "        rent_chair.append('N/A')\n",
    "        for div in divs:\n",
    "            try:\n",
    "                if div.find('span', {'data-testid':'bed'}):\n",
    "                    rent_bed[len(rent_bed)-1] = div['content']\n",
    "            except:\n",
    "                pass\n",
    "            try:\n",
    "                if div.find('span', {'data-testid':'bath'}):\n",
    "                    rent_bath[len(rent_bath)-1] = div['content']\n",
    "            except:\n",
    "                pass\n",
    "            try:\n",
    "                if div.find('span', {'data-testid':'chair'}):\n",
    "                    rent_chair[len(rent_chair)-1] = div['content']\n",
    "            except:\n",
    "                pass"
   ]
  },
  {
   "cell_type": "code",
   "execution_count": 8,
   "id": "f0d6d927",
   "metadata": {},
   "outputs": [],
   "source": [
    "df_rent=pd.DataFrame({\n",
    "    'link':rent_link,\n",
    "    'price':rent_price,\n",
    "    'title':rent_title,\n",
    "    'location':rent_location,\n",
    "    'post-date':rent_post_data,\n",
    "    'bedrooms':rent_bed,\n",
    "    'bathrooms':rent_bath,\n",
    "    'receptions':rent_chair\n",
    "})\n",
    "df_rent.to_csv('1-rent-raw.csv', index=False)"
   ]
  },
  {
   "cell_type": "code",
   "execution_count": null,
   "id": "8b0ef00d",
   "metadata": {},
   "outputs": [],
   "source": []
  },
  {
   "cell_type": "markdown",
   "id": "ef4685b1",
   "metadata": {},
   "source": [
    "### This notebook is made by Mohsen Soliman."
   ]
  }
 ],
 "metadata": {
  "kernelspec": {
   "display_name": "Python 3",
   "language": "python",
   "name": "python3"
  },
  "language_info": {
   "codemirror_mode": {
    "name": "ipython",
    "version": 3
   },
   "file_extension": ".py",
   "mimetype": "text/x-python",
   "name": "python",
   "nbconvert_exporter": "python",
   "pygments_lexer": "ipython3",
   "version": "3.8.8"
  }
 },
 "nbformat": 4,
 "nbformat_minor": 5
}
