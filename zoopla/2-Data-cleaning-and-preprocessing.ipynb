{
 "cells": [
  {
   "cell_type": "code",
   "execution_count": 1,
   "id": "a0620c43",
   "metadata": {},
   "outputs": [],
   "source": [
    "import pandas as pd\n",
    "import numpy as np\n",
    "import re"
   ]
  },
  {
   "cell_type": "code",
   "execution_count": 2,
   "id": "7873ce86",
   "metadata": {},
   "outputs": [],
   "source": [
    "df_sale_raw = pd.read_csv('1-sale-raw.csv')\n",
    "df_rent_raw = pd.read_csv('1-rent-raw.csv')"
   ]
  },
  {
   "cell_type": "markdown",
   "id": "25e0efea",
   "metadata": {},
   "source": [
    "# Make a back up copy:"
   ]
  },
  {
   "cell_type": "code",
   "execution_count": 3,
   "id": "dc790d5f",
   "metadata": {},
   "outputs": [],
   "source": [
    "df_sale = df_sale_raw.copy()"
   ]
  },
  {
   "cell_type": "code",
   "execution_count": 4,
   "id": "00a445a7",
   "metadata": {},
   "outputs": [],
   "source": [
    "df_rent = df_rent_raw.copy()"
   ]
  },
  {
   "cell_type": "markdown",
   "id": "ea9447b9",
   "metadata": {},
   "source": [
    "# Give it a look"
   ]
  },
  {
   "cell_type": "code",
   "execution_count": 5,
   "id": "7bf81bce",
   "metadata": {
    "scrolled": true
   },
   "outputs": [
    {
     "data": {
      "text/html": [
       "<div>\n",
       "<style scoped>\n",
       "    .dataframe tbody tr th:only-of-type {\n",
       "        vertical-align: middle;\n",
       "    }\n",
       "\n",
       "    .dataframe tbody tr th {\n",
       "        vertical-align: top;\n",
       "    }\n",
       "\n",
       "    .dataframe thead th {\n",
       "        text-align: right;\n",
       "    }\n",
       "</style>\n",
       "<table border=\"1\" class=\"dataframe\">\n",
       "  <thead>\n",
       "    <tr style=\"text-align: right;\">\n",
       "      <th></th>\n",
       "      <th>link</th>\n",
       "      <th>price</th>\n",
       "      <th>title</th>\n",
       "      <th>location</th>\n",
       "      <th>post-date</th>\n",
       "      <th>bedrooms</th>\n",
       "      <th>bathrooms</th>\n",
       "      <th>receptions</th>\n",
       "    </tr>\n",
       "  </thead>\n",
       "  <tbody>\n",
       "    <tr>\n",
       "      <th>0</th>\n",
       "      <td>https://www.zoopla.co.uk//for-sale/details/602...</td>\n",
       "      <td>£170,000</td>\n",
       "      <td>2 bed terraced house for sale</td>\n",
       "      <td>Spring Hill, Birmingham B24</td>\n",
       "      <td>Listed on 19th Nov 2021</td>\n",
       "      <td>2.0</td>\n",
       "      <td>1.0</td>\n",
       "      <td>2.0</td>\n",
       "    </tr>\n",
       "    <tr>\n",
       "      <th>1</th>\n",
       "      <td>https://www.zoopla.co.uk//for-sale/details/602...</td>\n",
       "      <td>£275,000</td>\n",
       "      <td>3 bed semi-detached house for sale</td>\n",
       "      <td>Quinton Lane, Quinton, Birmingham B32</td>\n",
       "      <td>Listed on 18th Nov 2021</td>\n",
       "      <td>3.0</td>\n",
       "      <td>NaN</td>\n",
       "      <td>NaN</td>\n",
       "    </tr>\n",
       "    <tr>\n",
       "      <th>2</th>\n",
       "      <td>https://www.zoopla.co.uk//for-sale/details/602...</td>\n",
       "      <td>£250,000</td>\n",
       "      <td>3 bed semi-detached house for sale</td>\n",
       "      <td>Loynells Road, Rednal, Birmingham B45</td>\n",
       "      <td>Listed on 18th Nov 2021</td>\n",
       "      <td>3.0</td>\n",
       "      <td>1.0</td>\n",
       "      <td>2.0</td>\n",
       "    </tr>\n",
       "  </tbody>\n",
       "</table>\n",
       "</div>"
      ],
      "text/plain": [
       "                                                link     price  \\\n",
       "0  https://www.zoopla.co.uk//for-sale/details/602...  £170,000   \n",
       "1  https://www.zoopla.co.uk//for-sale/details/602...  £275,000   \n",
       "2  https://www.zoopla.co.uk//for-sale/details/602...  £250,000   \n",
       "\n",
       "                                title                               location  \\\n",
       "0       2 bed terraced house for sale            Spring Hill, Birmingham B24   \n",
       "1  3 bed semi-detached house for sale  Quinton Lane, Quinton, Birmingham B32   \n",
       "2  3 bed semi-detached house for sale  Loynells Road, Rednal, Birmingham B45   \n",
       "\n",
       "                 post-date  bedrooms  bathrooms  receptions  \n",
       "0  Listed on 19th Nov 2021       2.0        1.0         2.0  \n",
       "1  Listed on 18th Nov 2021       3.0        NaN         NaN  \n",
       "2  Listed on 18th Nov 2021       3.0        1.0         2.0  "
      ]
     },
     "execution_count": 5,
     "metadata": {},
     "output_type": "execute_result"
    }
   ],
   "source": [
    "df_sale.head(3)"
   ]
  },
  {
   "cell_type": "code",
   "execution_count": 6,
   "id": "093dca63",
   "metadata": {
    "scrolled": true
   },
   "outputs": [
    {
     "data": {
      "text/plain": [
       "(3290, 8)"
      ]
     },
     "execution_count": 6,
     "metadata": {},
     "output_type": "execute_result"
    }
   ],
   "source": [
    "df_sale.shape"
   ]
  },
  {
   "cell_type": "code",
   "execution_count": 7,
   "id": "8cea3a3e",
   "metadata": {},
   "outputs": [
    {
     "data": {
      "text/html": [
       "<div>\n",
       "<style scoped>\n",
       "    .dataframe tbody tr th:only-of-type {\n",
       "        vertical-align: middle;\n",
       "    }\n",
       "\n",
       "    .dataframe tbody tr th {\n",
       "        vertical-align: top;\n",
       "    }\n",
       "\n",
       "    .dataframe thead th {\n",
       "        text-align: right;\n",
       "    }\n",
       "</style>\n",
       "<table border=\"1\" class=\"dataframe\">\n",
       "  <thead>\n",
       "    <tr style=\"text-align: right;\">\n",
       "      <th></th>\n",
       "      <th>link</th>\n",
       "      <th>price</th>\n",
       "      <th>title</th>\n",
       "      <th>location</th>\n",
       "      <th>post-date</th>\n",
       "      <th>bedrooms</th>\n",
       "      <th>bathrooms</th>\n",
       "      <th>receptions</th>\n",
       "    </tr>\n",
       "  </thead>\n",
       "  <tbody>\n",
       "    <tr>\n",
       "      <th>0</th>\n",
       "      <td>https://www.zoopla.co.uk//to-rent/details/6022...</td>\n",
       "      <td>£1,000 pcm</td>\n",
       "      <td>3 bed semi-detached house to rent</td>\n",
       "      <td>Ascot Road, Birmingham 9Pb B13</td>\n",
       "      <td>Listed on 19th Nov 2021</td>\n",
       "      <td>3.0</td>\n",
       "      <td>1.0</td>\n",
       "      <td>NaN</td>\n",
       "    </tr>\n",
       "    <tr>\n",
       "      <th>1</th>\n",
       "      <td>https://www.zoopla.co.uk//to-rent/details/5295...</td>\n",
       "      <td>£1,100 pcm</td>\n",
       "      <td>2 bed flat to rent</td>\n",
       "      <td>Dayus House, Tenby Street South, Jewellery Qua...</td>\n",
       "      <td>Listed on 18th Nov 2021</td>\n",
       "      <td>2.0</td>\n",
       "      <td>1.0</td>\n",
       "      <td>1.0</td>\n",
       "    </tr>\n",
       "    <tr>\n",
       "      <th>2</th>\n",
       "      <td>https://www.zoopla.co.uk//to-rent/details/5120...</td>\n",
       "      <td>£1,595 pcm</td>\n",
       "      <td>3 bed terraced house to rent</td>\n",
       "      <td>Ravenhurst Road, Harborne, Birmingham B17</td>\n",
       "      <td>Listed on 18th Nov 2021</td>\n",
       "      <td>3.0</td>\n",
       "      <td>NaN</td>\n",
       "      <td>NaN</td>\n",
       "    </tr>\n",
       "  </tbody>\n",
       "</table>\n",
       "</div>"
      ],
      "text/plain": [
       "                                                link       price  \\\n",
       "0  https://www.zoopla.co.uk//to-rent/details/6022...  £1,000 pcm   \n",
       "1  https://www.zoopla.co.uk//to-rent/details/5295...  £1,100 pcm   \n",
       "2  https://www.zoopla.co.uk//to-rent/details/5120...  £1,595 pcm   \n",
       "\n",
       "                               title  \\\n",
       "0  3 bed semi-detached house to rent   \n",
       "1                 2 bed flat to rent   \n",
       "2       3 bed terraced house to rent   \n",
       "\n",
       "                                            location                post-date  \\\n",
       "0                     Ascot Road, Birmingham 9Pb B13  Listed on 19th Nov 2021   \n",
       "1  Dayus House, Tenby Street South, Jewellery Qua...  Listed on 18th Nov 2021   \n",
       "2          Ravenhurst Road, Harborne, Birmingham B17  Listed on 18th Nov 2021   \n",
       "\n",
       "   bedrooms  bathrooms  receptions  \n",
       "0       3.0        1.0         NaN  \n",
       "1       2.0        1.0         1.0  \n",
       "2       3.0        NaN         NaN  "
      ]
     },
     "execution_count": 7,
     "metadata": {},
     "output_type": "execute_result"
    }
   ],
   "source": [
    "df_rent.head(3)"
   ]
  },
  {
   "cell_type": "code",
   "execution_count": 8,
   "id": "e2b8b700",
   "metadata": {},
   "outputs": [
    {
     "data": {
      "text/plain": [
       "(2612, 8)"
      ]
     },
     "execution_count": 8,
     "metadata": {},
     "output_type": "execute_result"
    }
   ],
   "source": [
    "df_rent.shape"
   ]
  },
  {
   "cell_type": "markdown",
   "id": "6ddd40f6",
   "metadata": {},
   "source": [
    "\n",
    "# Fix the price :\n"
   ]
  },
  {
   "cell_type": "code",
   "execution_count": 9,
   "id": "6bc81709",
   "metadata": {
    "scrolled": false
   },
   "outputs": [
    {
     "data": {
      "text/plain": [
       "0    £170,000\n",
       "1    £275,000\n",
       "2    £250,000\n",
       "Name: price, dtype: object"
      ]
     },
     "execution_count": 9,
     "metadata": {},
     "output_type": "execute_result"
    }
   ],
   "source": [
    "df_sale.price.head(3)"
   ]
  },
  {
   "cell_type": "code",
   "execution_count": 10,
   "id": "a451d285",
   "metadata": {},
   "outputs": [],
   "source": [
    "df_sale.price = df_sale.price.apply(lambda x: x.replace('£',''))\n",
    "df_sale.price = df_sale.price.apply(lambda x: x.replace(',',''))"
   ]
  },
  {
   "cell_type": "code",
   "execution_count": 11,
   "id": "1fab3c5e",
   "metadata": {
    "scrolled": false
   },
   "outputs": [
    {
     "ename": "ValueError",
     "evalue": "invalid literal for int() with base 10: 'POA'",
     "output_type": "error",
     "traceback": [
      "\u001b[1;31m---------------------------------------------------------------------------\u001b[0m",
      "\u001b[1;31mValueError\u001b[0m                                Traceback (most recent call last)",
      "\u001b[1;32m<ipython-input-11-6582a00aa4dc>\u001b[0m in \u001b[0;36m<module>\u001b[1;34m\u001b[0m\n\u001b[1;32m----> 1\u001b[1;33m \u001b[0mdf_sale\u001b[0m\u001b[1;33m.\u001b[0m\u001b[0mprice\u001b[0m\u001b[1;33m.\u001b[0m\u001b[0mastype\u001b[0m\u001b[1;33m(\u001b[0m\u001b[0mint\u001b[0m\u001b[1;33m)\u001b[0m\u001b[1;33m\u001b[0m\u001b[1;33m\u001b[0m\u001b[0m\n\u001b[0m",
      "\u001b[1;32m~\\anaconda3\\lib\\site-packages\\pandas\\core\\generic.py\u001b[0m in \u001b[0;36mastype\u001b[1;34m(self, dtype, copy, errors)\u001b[0m\n\u001b[0;32m   5813\u001b[0m         \u001b[1;32melse\u001b[0m\u001b[1;33m:\u001b[0m\u001b[1;33m\u001b[0m\u001b[1;33m\u001b[0m\u001b[0m\n\u001b[0;32m   5814\u001b[0m             \u001b[1;31m# else, only a single dtype is given\u001b[0m\u001b[1;33m\u001b[0m\u001b[1;33m\u001b[0m\u001b[1;33m\u001b[0m\u001b[0m\n\u001b[1;32m-> 5815\u001b[1;33m             \u001b[0mnew_data\u001b[0m \u001b[1;33m=\u001b[0m \u001b[0mself\u001b[0m\u001b[1;33m.\u001b[0m\u001b[0m_mgr\u001b[0m\u001b[1;33m.\u001b[0m\u001b[0mastype\u001b[0m\u001b[1;33m(\u001b[0m\u001b[0mdtype\u001b[0m\u001b[1;33m=\u001b[0m\u001b[0mdtype\u001b[0m\u001b[1;33m,\u001b[0m \u001b[0mcopy\u001b[0m\u001b[1;33m=\u001b[0m\u001b[0mcopy\u001b[0m\u001b[1;33m,\u001b[0m \u001b[0merrors\u001b[0m\u001b[1;33m=\u001b[0m\u001b[0merrors\u001b[0m\u001b[1;33m)\u001b[0m\u001b[1;33m\u001b[0m\u001b[1;33m\u001b[0m\u001b[0m\n\u001b[0m\u001b[0;32m   5816\u001b[0m             \u001b[1;32mreturn\u001b[0m \u001b[0mself\u001b[0m\u001b[1;33m.\u001b[0m\u001b[0m_constructor\u001b[0m\u001b[1;33m(\u001b[0m\u001b[0mnew_data\u001b[0m\u001b[1;33m)\u001b[0m\u001b[1;33m.\u001b[0m\u001b[0m__finalize__\u001b[0m\u001b[1;33m(\u001b[0m\u001b[0mself\u001b[0m\u001b[1;33m,\u001b[0m \u001b[0mmethod\u001b[0m\u001b[1;33m=\u001b[0m\u001b[1;34m\"astype\"\u001b[0m\u001b[1;33m)\u001b[0m\u001b[1;33m\u001b[0m\u001b[1;33m\u001b[0m\u001b[0m\n\u001b[0;32m   5817\u001b[0m \u001b[1;33m\u001b[0m\u001b[0m\n",
      "\u001b[1;32m~\\anaconda3\\lib\\site-packages\\pandas\\core\\internals\\managers.py\u001b[0m in \u001b[0;36mastype\u001b[1;34m(self, dtype, copy, errors)\u001b[0m\n\u001b[0;32m    416\u001b[0m \u001b[1;33m\u001b[0m\u001b[0m\n\u001b[0;32m    417\u001b[0m     \u001b[1;32mdef\u001b[0m \u001b[0mastype\u001b[0m\u001b[1;33m(\u001b[0m\u001b[0mself\u001b[0m\u001b[1;33m:\u001b[0m \u001b[0mT\u001b[0m\u001b[1;33m,\u001b[0m \u001b[0mdtype\u001b[0m\u001b[1;33m,\u001b[0m \u001b[0mcopy\u001b[0m\u001b[1;33m:\u001b[0m \u001b[0mbool\u001b[0m \u001b[1;33m=\u001b[0m \u001b[1;32mFalse\u001b[0m\u001b[1;33m,\u001b[0m \u001b[0merrors\u001b[0m\u001b[1;33m:\u001b[0m \u001b[0mstr\u001b[0m \u001b[1;33m=\u001b[0m \u001b[1;34m\"raise\"\u001b[0m\u001b[1;33m)\u001b[0m \u001b[1;33m->\u001b[0m \u001b[0mT\u001b[0m\u001b[1;33m:\u001b[0m\u001b[1;33m\u001b[0m\u001b[1;33m\u001b[0m\u001b[0m\n\u001b[1;32m--> 418\u001b[1;33m         \u001b[1;32mreturn\u001b[0m \u001b[0mself\u001b[0m\u001b[1;33m.\u001b[0m\u001b[0mapply\u001b[0m\u001b[1;33m(\u001b[0m\u001b[1;34m\"astype\"\u001b[0m\u001b[1;33m,\u001b[0m \u001b[0mdtype\u001b[0m\u001b[1;33m=\u001b[0m\u001b[0mdtype\u001b[0m\u001b[1;33m,\u001b[0m \u001b[0mcopy\u001b[0m\u001b[1;33m=\u001b[0m\u001b[0mcopy\u001b[0m\u001b[1;33m,\u001b[0m \u001b[0merrors\u001b[0m\u001b[1;33m=\u001b[0m\u001b[0merrors\u001b[0m\u001b[1;33m)\u001b[0m\u001b[1;33m\u001b[0m\u001b[1;33m\u001b[0m\u001b[0m\n\u001b[0m\u001b[0;32m    419\u001b[0m \u001b[1;33m\u001b[0m\u001b[0m\n\u001b[0;32m    420\u001b[0m     def convert(\n",
      "\u001b[1;32m~\\anaconda3\\lib\\site-packages\\pandas\\core\\internals\\managers.py\u001b[0m in \u001b[0;36mapply\u001b[1;34m(self, f, align_keys, ignore_failures, **kwargs)\u001b[0m\n\u001b[0;32m    325\u001b[0m                     \u001b[0mapplied\u001b[0m \u001b[1;33m=\u001b[0m \u001b[0mb\u001b[0m\u001b[1;33m.\u001b[0m\u001b[0mapply\u001b[0m\u001b[1;33m(\u001b[0m\u001b[0mf\u001b[0m\u001b[1;33m,\u001b[0m \u001b[1;33m**\u001b[0m\u001b[0mkwargs\u001b[0m\u001b[1;33m)\u001b[0m\u001b[1;33m\u001b[0m\u001b[1;33m\u001b[0m\u001b[0m\n\u001b[0;32m    326\u001b[0m                 \u001b[1;32melse\u001b[0m\u001b[1;33m:\u001b[0m\u001b[1;33m\u001b[0m\u001b[1;33m\u001b[0m\u001b[0m\n\u001b[1;32m--> 327\u001b[1;33m                     \u001b[0mapplied\u001b[0m \u001b[1;33m=\u001b[0m \u001b[0mgetattr\u001b[0m\u001b[1;33m(\u001b[0m\u001b[0mb\u001b[0m\u001b[1;33m,\u001b[0m \u001b[0mf\u001b[0m\u001b[1;33m)\u001b[0m\u001b[1;33m(\u001b[0m\u001b[1;33m**\u001b[0m\u001b[0mkwargs\u001b[0m\u001b[1;33m)\u001b[0m\u001b[1;33m\u001b[0m\u001b[1;33m\u001b[0m\u001b[0m\n\u001b[0m\u001b[0;32m    328\u001b[0m             \u001b[1;32mexcept\u001b[0m \u001b[1;33m(\u001b[0m\u001b[0mTypeError\u001b[0m\u001b[1;33m,\u001b[0m \u001b[0mNotImplementedError\u001b[0m\u001b[1;33m)\u001b[0m\u001b[1;33m:\u001b[0m\u001b[1;33m\u001b[0m\u001b[1;33m\u001b[0m\u001b[0m\n\u001b[0;32m    329\u001b[0m                 \u001b[1;32mif\u001b[0m \u001b[1;32mnot\u001b[0m \u001b[0mignore_failures\u001b[0m\u001b[1;33m:\u001b[0m\u001b[1;33m\u001b[0m\u001b[1;33m\u001b[0m\u001b[0m\n",
      "\u001b[1;32m~\\anaconda3\\lib\\site-packages\\pandas\\core\\internals\\blocks.py\u001b[0m in \u001b[0;36mastype\u001b[1;34m(self, dtype, copy, errors)\u001b[0m\n\u001b[0;32m    590\u001b[0m         \u001b[0mvalues\u001b[0m \u001b[1;33m=\u001b[0m \u001b[0mself\u001b[0m\u001b[1;33m.\u001b[0m\u001b[0mvalues\u001b[0m\u001b[1;33m\u001b[0m\u001b[1;33m\u001b[0m\u001b[0m\n\u001b[0;32m    591\u001b[0m \u001b[1;33m\u001b[0m\u001b[0m\n\u001b[1;32m--> 592\u001b[1;33m         \u001b[0mnew_values\u001b[0m \u001b[1;33m=\u001b[0m \u001b[0mastype_array_safe\u001b[0m\u001b[1;33m(\u001b[0m\u001b[0mvalues\u001b[0m\u001b[1;33m,\u001b[0m \u001b[0mdtype\u001b[0m\u001b[1;33m,\u001b[0m \u001b[0mcopy\u001b[0m\u001b[1;33m=\u001b[0m\u001b[0mcopy\u001b[0m\u001b[1;33m,\u001b[0m \u001b[0merrors\u001b[0m\u001b[1;33m=\u001b[0m\u001b[0merrors\u001b[0m\u001b[1;33m)\u001b[0m\u001b[1;33m\u001b[0m\u001b[1;33m\u001b[0m\u001b[0m\n\u001b[0m\u001b[0;32m    593\u001b[0m \u001b[1;33m\u001b[0m\u001b[0m\n\u001b[0;32m    594\u001b[0m         \u001b[0mnew_values\u001b[0m \u001b[1;33m=\u001b[0m \u001b[0mmaybe_coerce_values\u001b[0m\u001b[1;33m(\u001b[0m\u001b[0mnew_values\u001b[0m\u001b[1;33m)\u001b[0m\u001b[1;33m\u001b[0m\u001b[1;33m\u001b[0m\u001b[0m\n",
      "\u001b[1;32m~\\anaconda3\\lib\\site-packages\\pandas\\core\\dtypes\\cast.py\u001b[0m in \u001b[0;36mastype_array_safe\u001b[1;34m(values, dtype, copy, errors)\u001b[0m\n\u001b[0;32m   1307\u001b[0m \u001b[1;33m\u001b[0m\u001b[0m\n\u001b[0;32m   1308\u001b[0m     \u001b[1;32mtry\u001b[0m\u001b[1;33m:\u001b[0m\u001b[1;33m\u001b[0m\u001b[1;33m\u001b[0m\u001b[0m\n\u001b[1;32m-> 1309\u001b[1;33m         \u001b[0mnew_values\u001b[0m \u001b[1;33m=\u001b[0m \u001b[0mastype_array\u001b[0m\u001b[1;33m(\u001b[0m\u001b[0mvalues\u001b[0m\u001b[1;33m,\u001b[0m \u001b[0mdtype\u001b[0m\u001b[1;33m,\u001b[0m \u001b[0mcopy\u001b[0m\u001b[1;33m=\u001b[0m\u001b[0mcopy\u001b[0m\u001b[1;33m)\u001b[0m\u001b[1;33m\u001b[0m\u001b[1;33m\u001b[0m\u001b[0m\n\u001b[0m\u001b[0;32m   1310\u001b[0m     \u001b[1;32mexcept\u001b[0m \u001b[1;33m(\u001b[0m\u001b[0mValueError\u001b[0m\u001b[1;33m,\u001b[0m \u001b[0mTypeError\u001b[0m\u001b[1;33m)\u001b[0m\u001b[1;33m:\u001b[0m\u001b[1;33m\u001b[0m\u001b[1;33m\u001b[0m\u001b[0m\n\u001b[0;32m   1311\u001b[0m         \u001b[1;31m# e.g. astype_nansafe can fail on object-dtype of strings\u001b[0m\u001b[1;33m\u001b[0m\u001b[1;33m\u001b[0m\u001b[1;33m\u001b[0m\u001b[0m\n",
      "\u001b[1;32m~\\anaconda3\\lib\\site-packages\\pandas\\core\\dtypes\\cast.py\u001b[0m in \u001b[0;36mastype_array\u001b[1;34m(values, dtype, copy)\u001b[0m\n\u001b[0;32m   1255\u001b[0m \u001b[1;33m\u001b[0m\u001b[0m\n\u001b[0;32m   1256\u001b[0m     \u001b[1;32melse\u001b[0m\u001b[1;33m:\u001b[0m\u001b[1;33m\u001b[0m\u001b[1;33m\u001b[0m\u001b[0m\n\u001b[1;32m-> 1257\u001b[1;33m         \u001b[0mvalues\u001b[0m \u001b[1;33m=\u001b[0m \u001b[0mastype_nansafe\u001b[0m\u001b[1;33m(\u001b[0m\u001b[0mvalues\u001b[0m\u001b[1;33m,\u001b[0m \u001b[0mdtype\u001b[0m\u001b[1;33m,\u001b[0m \u001b[0mcopy\u001b[0m\u001b[1;33m=\u001b[0m\u001b[0mcopy\u001b[0m\u001b[1;33m)\u001b[0m\u001b[1;33m\u001b[0m\u001b[1;33m\u001b[0m\u001b[0m\n\u001b[0m\u001b[0;32m   1258\u001b[0m \u001b[1;33m\u001b[0m\u001b[0m\n\u001b[0;32m   1259\u001b[0m     \u001b[1;31m# in pandas we don't store numpy str dtypes, so convert to object\u001b[0m\u001b[1;33m\u001b[0m\u001b[1;33m\u001b[0m\u001b[1;33m\u001b[0m\u001b[0m\n",
      "\u001b[1;32m~\\anaconda3\\lib\\site-packages\\pandas\\core\\dtypes\\cast.py\u001b[0m in \u001b[0;36mastype_nansafe\u001b[1;34m(arr, dtype, copy, skipna)\u001b[0m\n\u001b[0;32m   1172\u001b[0m         \u001b[1;31m# work around NumPy brokenness, #1987\u001b[0m\u001b[1;33m\u001b[0m\u001b[1;33m\u001b[0m\u001b[1;33m\u001b[0m\u001b[0m\n\u001b[0;32m   1173\u001b[0m         \u001b[1;32mif\u001b[0m \u001b[0mnp\u001b[0m\u001b[1;33m.\u001b[0m\u001b[0missubdtype\u001b[0m\u001b[1;33m(\u001b[0m\u001b[0mdtype\u001b[0m\u001b[1;33m.\u001b[0m\u001b[0mtype\u001b[0m\u001b[1;33m,\u001b[0m \u001b[0mnp\u001b[0m\u001b[1;33m.\u001b[0m\u001b[0minteger\u001b[0m\u001b[1;33m)\u001b[0m\u001b[1;33m:\u001b[0m\u001b[1;33m\u001b[0m\u001b[1;33m\u001b[0m\u001b[0m\n\u001b[1;32m-> 1174\u001b[1;33m             \u001b[1;32mreturn\u001b[0m \u001b[0mlib\u001b[0m\u001b[1;33m.\u001b[0m\u001b[0mastype_intsafe\u001b[0m\u001b[1;33m(\u001b[0m\u001b[0marr\u001b[0m\u001b[1;33m,\u001b[0m \u001b[0mdtype\u001b[0m\u001b[1;33m)\u001b[0m\u001b[1;33m\u001b[0m\u001b[1;33m\u001b[0m\u001b[0m\n\u001b[0m\u001b[0;32m   1175\u001b[0m \u001b[1;33m\u001b[0m\u001b[0m\n\u001b[0;32m   1176\u001b[0m         \u001b[1;31m# if we have a datetime/timedelta array of objects\u001b[0m\u001b[1;33m\u001b[0m\u001b[1;33m\u001b[0m\u001b[1;33m\u001b[0m\u001b[0m\n",
      "\u001b[1;32m~\\anaconda3\\lib\\site-packages\\pandas\\_libs\\lib.pyx\u001b[0m in \u001b[0;36mpandas._libs.lib.astype_intsafe\u001b[1;34m()\u001b[0m\n",
      "\u001b[1;31mValueError\u001b[0m: invalid literal for int() with base 10: 'POA'"
     ]
    }
   ],
   "source": [
    "df_sale.price.astype(int)"
   ]
  },
  {
   "cell_type": "code",
   "execution_count": 12,
   "id": "b693237f",
   "metadata": {},
   "outputs": [],
   "source": [
    "# Lets figure out what just happened"
   ]
  },
  {
   "cell_type": "code",
   "execution_count": 13,
   "id": "360b9988",
   "metadata": {},
   "outputs": [
    {
     "name": "stdout",
     "output_type": "stream",
     "text": [
      "POA\n",
      "POA\n",
      "POA\n",
      "POA\n",
      "POA\n",
      "POA\n",
      "POA\n",
      "POA\n",
      "POA\n",
      "POA\n",
      "POA\n",
      "POA\n",
      "POA\n"
     ]
    }
   ],
   "source": [
    "for x in df_sale.price:\n",
    "    try:\n",
    "        int(x)\n",
    "    except:\n",
    "        print(x)"
   ]
  },
  {
   "cell_type": "code",
   "execution_count": 14,
   "id": "cb2329d8",
   "metadata": {},
   "outputs": [],
   "source": [
    "# Good, these rows aren't helpful for our analysis\n",
    "# let's convert them to NAN and drop them.\n",
    "df_sale.price.replace('POA', np.nan, inplace=True)\n",
    "df_sale.dropna(subset=['price'], inplace=True)"
   ]
  },
  {
   "cell_type": "code",
   "execution_count": 15,
   "id": "f957f779",
   "metadata": {
    "scrolled": true
   },
   "outputs": [
    {
     "name": "stdout",
     "output_type": "stream",
     "text": [
      "<class 'pandas.core.frame.DataFrame'>\n",
      "Int64Index: 3277 entries, 0 to 3289\n",
      "Data columns (total 8 columns):\n",
      " #   Column      Non-Null Count  Dtype  \n",
      "---  ------      --------------  -----  \n",
      " 0   link        3277 non-null   object \n",
      " 1   price       3277 non-null   int32  \n",
      " 2   title       3277 non-null   object \n",
      " 3   location    3277 non-null   object \n",
      " 4   post-date   3277 non-null   object \n",
      " 5   bedrooms    3213 non-null   float64\n",
      " 6   bathrooms   2995 non-null   float64\n",
      " 7   receptions  2743 non-null   float64\n",
      "dtypes: float64(3), int32(1), object(4)\n",
      "memory usage: 217.6+ KB\n"
     ]
    }
   ],
   "source": [
    "df_sale.price = df_sale.price.astype(int)\n",
    "df_sale.info()"
   ]
  },
  {
   "cell_type": "markdown",
   "id": "905e9033",
   "metadata": {},
   "source": [
    "# Split the location\n",
    "We are only interested in postcodes."
   ]
  },
  {
   "cell_type": "code",
   "execution_count": 16,
   "id": "f30d97fb",
   "metadata": {},
   "outputs": [],
   "source": [
    "def get_postcode(x):\n",
    "    try:\n",
    "        return re.findall(r'B\\d?\\d', x)[-1]\n",
    "    except:\n",
    "        return np.nan"
   ]
  },
  {
   "cell_type": "code",
   "execution_count": 17,
   "id": "6a367ccd",
   "metadata": {},
   "outputs": [
    {
     "data": {
      "text/plain": [
       "B1     367\n",
       "B5     234\n",
       "B16    188\n",
       "B15    178\n",
       "B12    160\n",
       "B17    132\n",
       "B13    103\n",
       "B3     102\n",
       "B26    100\n",
       "B31     98\n",
       "B4      88\n",
       "B36     76\n",
       "B23     75\n",
       "B28     70\n",
       "B18     69\n",
       "B29     68\n",
       "B73     65\n",
       "B14     57\n",
       "B66     57\n",
       "B42     57\n",
       "B20     56\n",
       "B8      54\n",
       "B32     53\n",
       "B30     52\n",
       "B24     52\n",
       "B21     49\n",
       "B72     46\n",
       "B67     43\n",
       "B38     40\n",
       "B45     37\n",
       "B27     34\n",
       "B43     34\n",
       "B37     33\n",
       "B33     33\n",
       "B25     32\n",
       "B11     28\n",
       "B34     28\n",
       "B92     27\n",
       "B6      26\n",
       "B10     26\n",
       "B2      24\n",
       "B19     21\n",
       "B9      21\n",
       "B44     17\n",
       "B90     16\n",
       "B35     13\n",
       "B76     12\n",
       "B47     11\n",
       "B7       4\n",
       "B48      3\n",
       "B68      3\n",
       "B46      3\n",
       "B62      1\n",
       "Name: postcode, dtype: int64"
      ]
     },
     "execution_count": 17,
     "metadata": {},
     "output_type": "execute_result"
    }
   ],
   "source": [
    "df_sale['postcode'] = df_sale.location.apply(get_postcode)\n",
    "df_sale['postcode'].value_counts()"
   ]
  },
  {
   "cell_type": "markdown",
   "id": "1d4cc668",
   "metadata": {},
   "source": [
    "# Let's make our dataframe ready"
   ]
  },
  {
   "cell_type": "code",
   "execution_count": 18,
   "id": "0bb549aa",
   "metadata": {
    "scrolled": true
   },
   "outputs": [
    {
     "data": {
      "text/plain": [
       "Index(['link', 'price', 'title', 'location', 'post-date', 'bedrooms',\n",
       "       'bathrooms', 'receptions', 'postcode'],\n",
       "      dtype='object')"
      ]
     },
     "execution_count": 18,
     "metadata": {},
     "output_type": "execute_result"
    }
   ],
   "source": [
    "df_sale.columns"
   ]
  },
  {
   "cell_type": "code",
   "execution_count": 19,
   "id": "712ca9a7",
   "metadata": {
    "scrolled": true
   },
   "outputs": [
    {
     "data": {
      "text/html": [
       "<div>\n",
       "<style scoped>\n",
       "    .dataframe tbody tr th:only-of-type {\n",
       "        vertical-align: middle;\n",
       "    }\n",
       "\n",
       "    .dataframe tbody tr th {\n",
       "        vertical-align: top;\n",
       "    }\n",
       "\n",
       "    .dataframe thead th {\n",
       "        text-align: right;\n",
       "    }\n",
       "</style>\n",
       "<table border=\"1\" class=\"dataframe\">\n",
       "  <thead>\n",
       "    <tr style=\"text-align: right;\">\n",
       "      <th></th>\n",
       "      <th>link</th>\n",
       "      <th>price</th>\n",
       "      <th>title</th>\n",
       "      <th>location</th>\n",
       "      <th>post-date</th>\n",
       "      <th>bedrooms</th>\n",
       "      <th>bathrooms</th>\n",
       "      <th>receptions</th>\n",
       "      <th>postcode</th>\n",
       "    </tr>\n",
       "  </thead>\n",
       "  <tbody>\n",
       "    <tr>\n",
       "      <th>1702</th>\n",
       "      <td>https://www.zoopla.co.uk//for-sale/details/595...</td>\n",
       "      <td>600000</td>\n",
       "      <td>1 bed flat for sale</td>\n",
       "      <td>Turnberry Quay, London E14</td>\n",
       "      <td>Listed on 1st Sep 2021</td>\n",
       "      <td>1.0</td>\n",
       "      <td>1.0</td>\n",
       "      <td>1.0</td>\n",
       "      <td>NaN</td>\n",
       "    </tr>\n",
       "  </tbody>\n",
       "</table>\n",
       "</div>"
      ],
      "text/plain": [
       "                                                   link   price  \\\n",
       "1702  https://www.zoopla.co.uk//for-sale/details/595...  600000   \n",
       "\n",
       "                    title                    location               post-date  \\\n",
       "1702  1 bed flat for sale  Turnberry Quay, London E14  Listed on 1st Sep 2021   \n",
       "\n",
       "      bedrooms  bathrooms  receptions postcode  \n",
       "1702       1.0        1.0         1.0      NaN  "
      ]
     },
     "execution_count": 19,
     "metadata": {},
     "output_type": "execute_result"
    }
   ],
   "source": [
    "df_sale[df_sale.postcode.isnull()]"
   ]
  },
  {
   "cell_type": "code",
   "execution_count": 20,
   "id": "24ff97da",
   "metadata": {},
   "outputs": [],
   "source": [
    "# That's an error from the website results...\n",
    "# E14 refers to London..\n",
    "# Let's get rid of it.."
   ]
  },
  {
   "cell_type": "code",
   "execution_count": 21,
   "id": "9842e897",
   "metadata": {},
   "outputs": [],
   "source": [
    "df_sale.dropna(subset=['postcode'], inplace=True)"
   ]
  },
  {
   "cell_type": "markdown",
   "id": "7f50563e",
   "metadata": {},
   "source": [
    "# Type of properties"
   ]
  },
  {
   "cell_type": "code",
   "execution_count": 22,
   "id": "1a3fef68",
   "metadata": {},
   "outputs": [
    {
     "data": {
      "text/plain": [
       "array(['terraced house', 'semi-detached house', 'flat', 'property',\n",
       "       'detached bungalow', 'detached house', 'end terrace house',\n",
       "       'semi-detached bungalow', 'town house', 'maisonette',\n",
       "       'link-detached house', 'bungalow', 'mews house', 'parking/garage',\n",
       "       'studio', 'block of flats', 'barn conversion', 'terraced bungalow',\n",
       "       'penthouse', 'room', 'cottage', 'lodge', 'land'], dtype=object)"
      ]
     },
     "execution_count": 22,
     "metadata": {},
     "output_type": "execute_result"
    }
   ],
   "source": [
    "df_sale['type'] = df_sale.title.apply(lambda x: x.replace(''.join(re.findall('\\d+\\sbed\\s', x)), '').lower())\n",
    "df_sale['type'] = df_sale.type.apply(lambda x: x.replace(''.join(re.findall('\\sfor\\ssale', x)), '').lower())\n",
    "df_sale['type'].unique()"
   ]
  },
  {
   "cell_type": "code",
   "execution_count": 23,
   "id": "e4430045",
   "metadata": {
    "scrolled": true
   },
   "outputs": [
    {
     "data": {
      "text/html": [
       "<div>\n",
       "<style scoped>\n",
       "    .dataframe tbody tr th:only-of-type {\n",
       "        vertical-align: middle;\n",
       "    }\n",
       "\n",
       "    .dataframe tbody tr th {\n",
       "        vertical-align: top;\n",
       "    }\n",
       "\n",
       "    .dataframe thead th {\n",
       "        text-align: right;\n",
       "    }\n",
       "</style>\n",
       "<table border=\"1\" class=\"dataframe\">\n",
       "  <thead>\n",
       "    <tr style=\"text-align: right;\">\n",
       "      <th></th>\n",
       "      <th>link</th>\n",
       "      <th>price</th>\n",
       "      <th>title</th>\n",
       "      <th>location</th>\n",
       "      <th>post-date</th>\n",
       "      <th>bedrooms</th>\n",
       "      <th>bathrooms</th>\n",
       "      <th>receptions</th>\n",
       "      <th>postcode</th>\n",
       "      <th>type</th>\n",
       "    </tr>\n",
       "  </thead>\n",
       "  <tbody>\n",
       "    <tr>\n",
       "      <th>0</th>\n",
       "      <td>https://www.zoopla.co.uk//for-sale/details/602...</td>\n",
       "      <td>170000</td>\n",
       "      <td>2 bed terraced house for sale</td>\n",
       "      <td>Spring Hill, Birmingham B24</td>\n",
       "      <td>Listed on 19th Nov 2021</td>\n",
       "      <td>2.0</td>\n",
       "      <td>1.0</td>\n",
       "      <td>2.0</td>\n",
       "      <td>B24</td>\n",
       "      <td>terraced house</td>\n",
       "    </tr>\n",
       "    <tr>\n",
       "      <th>1</th>\n",
       "      <td>https://www.zoopla.co.uk//for-sale/details/602...</td>\n",
       "      <td>275000</td>\n",
       "      <td>3 bed semi-detached house for sale</td>\n",
       "      <td>Quinton Lane, Quinton, Birmingham B32</td>\n",
       "      <td>Listed on 18th Nov 2021</td>\n",
       "      <td>3.0</td>\n",
       "      <td>NaN</td>\n",
       "      <td>NaN</td>\n",
       "      <td>B32</td>\n",
       "      <td>semi-detached house</td>\n",
       "    </tr>\n",
       "    <tr>\n",
       "      <th>2</th>\n",
       "      <td>https://www.zoopla.co.uk//for-sale/details/602...</td>\n",
       "      <td>250000</td>\n",
       "      <td>3 bed semi-detached house for sale</td>\n",
       "      <td>Loynells Road, Rednal, Birmingham B45</td>\n",
       "      <td>Listed on 18th Nov 2021</td>\n",
       "      <td>3.0</td>\n",
       "      <td>1.0</td>\n",
       "      <td>2.0</td>\n",
       "      <td>B45</td>\n",
       "      <td>semi-detached house</td>\n",
       "    </tr>\n",
       "    <tr>\n",
       "      <th>3</th>\n",
       "      <td>https://www.zoopla.co.uk//for-sale/details/602...</td>\n",
       "      <td>239000</td>\n",
       "      <td>2 bed flat for sale</td>\n",
       "      <td>Heritage Court, 15 Warstone Lane, Birmingham B18</td>\n",
       "      <td>Listed on 18th Nov 2021</td>\n",
       "      <td>2.0</td>\n",
       "      <td>2.0</td>\n",
       "      <td>1.0</td>\n",
       "      <td>B18</td>\n",
       "      <td>flat</td>\n",
       "    </tr>\n",
       "    <tr>\n",
       "      <th>4</th>\n",
       "      <td>https://www.zoopla.co.uk//for-sale/details/602...</td>\n",
       "      <td>240000</td>\n",
       "      <td>3 bed semi-detached house for sale</td>\n",
       "      <td>Old Town Close, Kings Norton, Birmingham B38</td>\n",
       "      <td>Listed on 18th Nov 2021</td>\n",
       "      <td>3.0</td>\n",
       "      <td>1.0</td>\n",
       "      <td>1.0</td>\n",
       "      <td>B38</td>\n",
       "      <td>semi-detached house</td>\n",
       "    </tr>\n",
       "    <tr>\n",
       "      <th>...</th>\n",
       "      <td>...</td>\n",
       "      <td>...</td>\n",
       "      <td>...</td>\n",
       "      <td>...</td>\n",
       "      <td>...</td>\n",
       "      <td>...</td>\n",
       "      <td>...</td>\n",
       "      <td>...</td>\n",
       "      <td>...</td>\n",
       "      <td>...</td>\n",
       "    </tr>\n",
       "    <tr>\n",
       "      <th>3285</th>\n",
       "      <td>https://www.zoopla.co.uk//for-sale/details/475...</td>\n",
       "      <td>300000</td>\n",
       "      <td>2 bed property for sale</td>\n",
       "      <td>Hagley Road, Edgbaston, Birmingham B17</td>\n",
       "      <td>Listed on 19th Oct 2017</td>\n",
       "      <td>2.0</td>\n",
       "      <td>1.0</td>\n",
       "      <td>1.0</td>\n",
       "      <td>B17</td>\n",
       "      <td>property</td>\n",
       "    </tr>\n",
       "    <tr>\n",
       "      <th>3286</th>\n",
       "      <td>https://www.zoopla.co.uk//for-sale/details/451...</td>\n",
       "      <td>115950</td>\n",
       "      <td>1 bed flat for sale</td>\n",
       "      <td>42 Ryland St, Birmingham B16</td>\n",
       "      <td>Listed on 4th Oct 2017</td>\n",
       "      <td>1.0</td>\n",
       "      <td>1.0</td>\n",
       "      <td>1.0</td>\n",
       "      <td>B16</td>\n",
       "      <td>flat</td>\n",
       "    </tr>\n",
       "    <tr>\n",
       "      <th>3287</th>\n",
       "      <td>https://www.zoopla.co.uk//for-sale/details/446...</td>\n",
       "      <td>180000</td>\n",
       "      <td>4 bed end terrace house for sale</td>\n",
       "      <td>Abbey Road, Erdington, Birmingham, West Midlan...</td>\n",
       "      <td>Listed on 10th Aug 2017</td>\n",
       "      <td>4.0</td>\n",
       "      <td>2.0</td>\n",
       "      <td>2.0</td>\n",
       "      <td>B23</td>\n",
       "      <td>end terrace house</td>\n",
       "    </tr>\n",
       "    <tr>\n",
       "      <th>3288</th>\n",
       "      <td>https://www.zoopla.co.uk//for-sale/details/428...</td>\n",
       "      <td>319950</td>\n",
       "      <td>2 bed flat for sale</td>\n",
       "      <td>New St, Birmingham B2</td>\n",
       "      <td>Listed on 6th Feb 2017</td>\n",
       "      <td>2.0</td>\n",
       "      <td>2.0</td>\n",
       "      <td>1.0</td>\n",
       "      <td>B2</td>\n",
       "      <td>flat</td>\n",
       "    </tr>\n",
       "    <tr>\n",
       "      <th>3289</th>\n",
       "      <td>https://www.zoopla.co.uk//for-sale/details/409...</td>\n",
       "      <td>119500</td>\n",
       "      <td>1 bed flat for sale</td>\n",
       "      <td>42 Ryland St, Birmingham B16</td>\n",
       "      <td>Listed on 11th Jul 2016</td>\n",
       "      <td>1.0</td>\n",
       "      <td>1.0</td>\n",
       "      <td>1.0</td>\n",
       "      <td>B16</td>\n",
       "      <td>flat</td>\n",
       "    </tr>\n",
       "  </tbody>\n",
       "</table>\n",
       "<p>3276 rows × 10 columns</p>\n",
       "</div>"
      ],
      "text/plain": [
       "                                                   link   price  \\\n",
       "0     https://www.zoopla.co.uk//for-sale/details/602...  170000   \n",
       "1     https://www.zoopla.co.uk//for-sale/details/602...  275000   \n",
       "2     https://www.zoopla.co.uk//for-sale/details/602...  250000   \n",
       "3     https://www.zoopla.co.uk//for-sale/details/602...  239000   \n",
       "4     https://www.zoopla.co.uk//for-sale/details/602...  240000   \n",
       "...                                                 ...     ...   \n",
       "3285  https://www.zoopla.co.uk//for-sale/details/475...  300000   \n",
       "3286  https://www.zoopla.co.uk//for-sale/details/451...  115950   \n",
       "3287  https://www.zoopla.co.uk//for-sale/details/446...  180000   \n",
       "3288  https://www.zoopla.co.uk//for-sale/details/428...  319950   \n",
       "3289  https://www.zoopla.co.uk//for-sale/details/409...  119500   \n",
       "\n",
       "                                   title  \\\n",
       "0          2 bed terraced house for sale   \n",
       "1     3 bed semi-detached house for sale   \n",
       "2     3 bed semi-detached house for sale   \n",
       "3                    2 bed flat for sale   \n",
       "4     3 bed semi-detached house for sale   \n",
       "...                                  ...   \n",
       "3285             2 bed property for sale   \n",
       "3286                 1 bed flat for sale   \n",
       "3287    4 bed end terrace house for sale   \n",
       "3288                 2 bed flat for sale   \n",
       "3289                 1 bed flat for sale   \n",
       "\n",
       "                                               location  \\\n",
       "0                           Spring Hill, Birmingham B24   \n",
       "1                 Quinton Lane, Quinton, Birmingham B32   \n",
       "2                 Loynells Road, Rednal, Birmingham B45   \n",
       "3      Heritage Court, 15 Warstone Lane, Birmingham B18   \n",
       "4          Old Town Close, Kings Norton, Birmingham B38   \n",
       "...                                                 ...   \n",
       "3285             Hagley Road, Edgbaston, Birmingham B17   \n",
       "3286                       42 Ryland St, Birmingham B16   \n",
       "3287  Abbey Road, Erdington, Birmingham, West Midlan...   \n",
       "3288                              New St, Birmingham B2   \n",
       "3289                       42 Ryland St, Birmingham B16   \n",
       "\n",
       "                    post-date  bedrooms  bathrooms  receptions postcode  \\\n",
       "0     Listed on 19th Nov 2021       2.0        1.0         2.0      B24   \n",
       "1     Listed on 18th Nov 2021       3.0        NaN         NaN      B32   \n",
       "2     Listed on 18th Nov 2021       3.0        1.0         2.0      B45   \n",
       "3     Listed on 18th Nov 2021       2.0        2.0         1.0      B18   \n",
       "4     Listed on 18th Nov 2021       3.0        1.0         1.0      B38   \n",
       "...                       ...       ...        ...         ...      ...   \n",
       "3285  Listed on 19th Oct 2017       2.0        1.0         1.0      B17   \n",
       "3286   Listed on 4th Oct 2017       1.0        1.0         1.0      B16   \n",
       "3287  Listed on 10th Aug 2017       4.0        2.0         2.0      B23   \n",
       "3288   Listed on 6th Feb 2017       2.0        2.0         1.0       B2   \n",
       "3289  Listed on 11th Jul 2016       1.0        1.0         1.0      B16   \n",
       "\n",
       "                     type  \n",
       "0          terraced house  \n",
       "1     semi-detached house  \n",
       "2     semi-detached house  \n",
       "3                    flat  \n",
       "4     semi-detached house  \n",
       "...                   ...  \n",
       "3285             property  \n",
       "3286                 flat  \n",
       "3287    end terrace house  \n",
       "3288                 flat  \n",
       "3289                 flat  \n",
       "\n",
       "[3276 rows x 10 columns]"
      ]
     },
     "execution_count": 23,
     "metadata": {},
     "output_type": "execute_result"
    }
   ],
   "source": [
    "df_sale"
   ]
  },
  {
   "cell_type": "markdown",
   "id": "0030a223",
   "metadata": {},
   "source": [
    "# Let's repeat them all to df_rent:"
   ]
  },
  {
   "cell_type": "code",
   "execution_count": 24,
   "id": "f318dfa5",
   "metadata": {},
   "outputs": [],
   "source": [
    "def fix_rent_price(x):\n",
    "    x = x.replace('£','')\n",
    "    x = x.replace(' pcm','')\n",
    "    x = x.replace(',','')\n",
    "    return x\n",
    "df_rent.price = df_rent.price.apply(fix_rent_price)\n",
    "df_rent.price.replace('POA', np.nan, inplace=True)\n",
    "df_rent.dropna(subset=['price'], inplace=True)\n",
    "df_rent.price = df_rent.price.astype(int)\n",
    "def no_of_beds_is_na(x):\n",
    "    try:\n",
    "        if int(x[0]):\n",
    "            return False\n",
    "    except:\n",
    "        return True\n",
    "df_rent['type'] = df_rent.title.apply(lambda x: x.replace(''.join(re.findall('\\d+\\sbed\\s', x)), '').lower())\n",
    "df_rent['type'] = df_rent.type.apply(lambda x: x.replace(' to rent',''))\n",
    "def get_postcode(x):\n",
    "    try:\n",
    "        return re.findall(r'B\\d?\\d', x)[-1]\n",
    "    except:\n",
    "        return np.nan\n",
    "df_rent['postcode'] = df_rent.location.apply(get_postcode)\n",
    "df_rent.dropna(subset=['postcode'], inplace=True)"
   ]
  },
  {
   "cell_type": "code",
   "execution_count": 25,
   "id": "45798019",
   "metadata": {
    "scrolled": true
   },
   "outputs": [
    {
     "data": {
      "text/html": [
       "<div>\n",
       "<style scoped>\n",
       "    .dataframe tbody tr th:only-of-type {\n",
       "        vertical-align: middle;\n",
       "    }\n",
       "\n",
       "    .dataframe tbody tr th {\n",
       "        vertical-align: top;\n",
       "    }\n",
       "\n",
       "    .dataframe thead th {\n",
       "        text-align: right;\n",
       "    }\n",
       "</style>\n",
       "<table border=\"1\" class=\"dataframe\">\n",
       "  <thead>\n",
       "    <tr style=\"text-align: right;\">\n",
       "      <th></th>\n",
       "      <th>link</th>\n",
       "      <th>price</th>\n",
       "      <th>title</th>\n",
       "      <th>location</th>\n",
       "      <th>post-date</th>\n",
       "      <th>bedrooms</th>\n",
       "      <th>bathrooms</th>\n",
       "      <th>receptions</th>\n",
       "      <th>type</th>\n",
       "      <th>postcode</th>\n",
       "    </tr>\n",
       "  </thead>\n",
       "  <tbody>\n",
       "    <tr>\n",
       "      <th>0</th>\n",
       "      <td>https://www.zoopla.co.uk//to-rent/details/6022...</td>\n",
       "      <td>1000</td>\n",
       "      <td>3 bed semi-detached house to rent</td>\n",
       "      <td>Ascot Road, Birmingham 9Pb B13</td>\n",
       "      <td>Listed on 19th Nov 2021</td>\n",
       "      <td>3.0</td>\n",
       "      <td>1.0</td>\n",
       "      <td>NaN</td>\n",
       "      <td>semi-detached house</td>\n",
       "      <td>B13</td>\n",
       "    </tr>\n",
       "    <tr>\n",
       "      <th>1</th>\n",
       "      <td>https://www.zoopla.co.uk//to-rent/details/5295...</td>\n",
       "      <td>1100</td>\n",
       "      <td>2 bed flat to rent</td>\n",
       "      <td>Dayus House, Tenby Street South, Jewellery Qua...</td>\n",
       "      <td>Listed on 18th Nov 2021</td>\n",
       "      <td>2.0</td>\n",
       "      <td>1.0</td>\n",
       "      <td>1.0</td>\n",
       "      <td>flat</td>\n",
       "      <td>B1</td>\n",
       "    </tr>\n",
       "    <tr>\n",
       "      <th>2</th>\n",
       "      <td>https://www.zoopla.co.uk//to-rent/details/5120...</td>\n",
       "      <td>1595</td>\n",
       "      <td>3 bed terraced house to rent</td>\n",
       "      <td>Ravenhurst Road, Harborne, Birmingham B17</td>\n",
       "      <td>Listed on 18th Nov 2021</td>\n",
       "      <td>3.0</td>\n",
       "      <td>NaN</td>\n",
       "      <td>NaN</td>\n",
       "      <td>terraced house</td>\n",
       "      <td>B17</td>\n",
       "    </tr>\n",
       "    <tr>\n",
       "      <th>3</th>\n",
       "      <td>https://www.zoopla.co.uk//to-rent/details/5357...</td>\n",
       "      <td>750</td>\n",
       "      <td>1 bed flat to rent</td>\n",
       "      <td>Albion House, Pope Street, Jewellery Quarter B1</td>\n",
       "      <td>Listed on 18th Nov 2021</td>\n",
       "      <td>1.0</td>\n",
       "      <td>1.0</td>\n",
       "      <td>1.0</td>\n",
       "      <td>flat</td>\n",
       "      <td>B1</td>\n",
       "    </tr>\n",
       "    <tr>\n",
       "      <th>4</th>\n",
       "      <td>https://www.zoopla.co.uk//to-rent/details/6022...</td>\n",
       "      <td>875</td>\n",
       "      <td>3 bed property to rent</td>\n",
       "      <td>Tyndale Crescent, Birmingham B43</td>\n",
       "      <td>Listed on 18th Nov 2021</td>\n",
       "      <td>3.0</td>\n",
       "      <td>1.0</td>\n",
       "      <td>1.0</td>\n",
       "      <td>property</td>\n",
       "      <td>B43</td>\n",
       "    </tr>\n",
       "  </tbody>\n",
       "</table>\n",
       "</div>"
      ],
      "text/plain": [
       "                                                link  price  \\\n",
       "0  https://www.zoopla.co.uk//to-rent/details/6022...   1000   \n",
       "1  https://www.zoopla.co.uk//to-rent/details/5295...   1100   \n",
       "2  https://www.zoopla.co.uk//to-rent/details/5120...   1595   \n",
       "3  https://www.zoopla.co.uk//to-rent/details/5357...    750   \n",
       "4  https://www.zoopla.co.uk//to-rent/details/6022...    875   \n",
       "\n",
       "                               title  \\\n",
       "0  3 bed semi-detached house to rent   \n",
       "1                 2 bed flat to rent   \n",
       "2       3 bed terraced house to rent   \n",
       "3                 1 bed flat to rent   \n",
       "4             3 bed property to rent   \n",
       "\n",
       "                                            location                post-date  \\\n",
       "0                     Ascot Road, Birmingham 9Pb B13  Listed on 19th Nov 2021   \n",
       "1  Dayus House, Tenby Street South, Jewellery Qua...  Listed on 18th Nov 2021   \n",
       "2          Ravenhurst Road, Harborne, Birmingham B17  Listed on 18th Nov 2021   \n",
       "3    Albion House, Pope Street, Jewellery Quarter B1  Listed on 18th Nov 2021   \n",
       "4                   Tyndale Crescent, Birmingham B43  Listed on 18th Nov 2021   \n",
       "\n",
       "   bedrooms  bathrooms  receptions                 type postcode  \n",
       "0       3.0        1.0         NaN  semi-detached house      B13  \n",
       "1       2.0        1.0         1.0                 flat       B1  \n",
       "2       3.0        NaN         NaN       terraced house      B17  \n",
       "3       1.0        1.0         1.0                 flat       B1  \n",
       "4       3.0        1.0         1.0             property      B43  "
      ]
     },
     "execution_count": 25,
     "metadata": {},
     "output_type": "execute_result"
    }
   ],
   "source": [
    "df_rent.head()"
   ]
  },
  {
   "cell_type": "code",
   "execution_count": 26,
   "id": "1c5acbd8",
   "metadata": {},
   "outputs": [],
   "source": [
    "df_sale.to_csv('2-sale-cleaned.csv', index=False)\n",
    "df_rent.to_csv('2-rent-cleaned.csv', index=False)"
   ]
  }
 ],
 "metadata": {
  "kernelspec": {
   "display_name": "Python 3",
   "language": "python",
   "name": "python3"
  },
  "language_info": {
   "codemirror_mode": {
    "name": "ipython",
    "version": 3
   },
   "file_extension": ".py",
   "mimetype": "text/x-python",
   "name": "python",
   "nbconvert_exporter": "python",
   "pygments_lexer": "ipython3",
   "version": "3.8.8"
  }
 },
 "nbformat": 4,
 "nbformat_minor": 5
}
